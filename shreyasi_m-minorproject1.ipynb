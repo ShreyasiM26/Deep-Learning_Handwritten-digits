{
 "cells": [
  {
   "cell_type": "code",
   "execution_count": 2,
   "id": "fa06700b",
   "metadata": {},
   "outputs": [
    {
     "data": {
      "image/png": "[encoded data removed]",
      "text/plain": [
       "<Figure size 432x288 with 4 Axes>"
      ]
     },
     "metadata": {
      "needs_background": "light"
     },
     "output_type": "display_data"
    }
   ],
   "source": [
    "# Plot ad hoc mnist instances\n",
    "from tensorflow.keras.datasets import mnist\n",
    "import matplotlib.pyplot as plt\n",
    "# load (downloaded if needed) the MNIST dataset\n",
    "(X_train, y_train), (X_test, y_test) = mnist.load_data()\n",
    "# plot 4 images as gray scale\n",
    "plt.subplot(221)\n",
    "plt.imshow(X_train[0], cmap=plt.get_cmap('gray'))\n",
    "plt.subplot(222)\n",
    "plt.imshow(X_train[1], cmap=plt.get_cmap('gray'))\n",
    "plt.subplot(223)\n",
    "plt.imshow(X_train[2], cmap=plt.get_cmap('gray'))\n",
    "plt.subplot(224)\n",
    "plt.imshow(X_train[3], cmap=plt.get_cmap('gray'))\n",
    "# show the plot\n",
    "plt.show()"
   ]
  },
  {
   "cell_type": "code",
   "execution_count": 3,
   "id": "023b8820",
   "metadata": {},
   "outputs": [
    {
     "data": {
      "text/plain": [
       "Ellipsis"
      ]
     },
     "execution_count": 3,
     "metadata": {},
     "output_type": "execute_result"
    }
   ],
   "source": [
    "from tensorflow.keras.datasets import mnist\n",
    "from tensorflow.keras.models import Sequential\n",
    "from tensorflow.keras.layers import Dense\n",
    "from tensorflow.keras.layers import Dropout\n",
    "from tensorflow.keras.utils import to_categorical\n",
    "..."
   ]
  },
  {
   "cell_type": "code",
   "execution_count": 4,
   "id": "2479f4ed",
   "metadata": {},
   "outputs": [],
   "source": [
    "# load data\n",
    "(X_train, y_train), (X_test, y_test) = mnist.load_data()"
   ]
  },
  {
   "cell_type": "code",
   "execution_count": 5,
   "id": "f155db8e",
   "metadata": {},
   "outputs": [],
   "source": [
    "# flatten 28*28 images to a 784 vector for each image\n",
    "num_pixels = X_train.shape[1] * X_train.shape[2]\n",
    "X_train = X_train.reshape((X_train.shape[0], num_pixels)).astype('float32')\n",
    "X_test = X_test.reshape((X_test.shape[0], num_pixels)).astype('float32')"
   ]
  },
  {
   "cell_type": "code",
   "execution_count": 6,
   "id": "4e5d1fb1",
   "metadata": {},
   "outputs": [],
   "source": [
    "# normalize inputs from 0-255 to 0-1\n",
    "X_train = X_train / 255\n",
    "X_test = X_test / 255"
   ]
  },
  {
   "cell_type": "code",
   "execution_count": 7,
   "id": "4e2e53be",
   "metadata": {},
   "outputs": [],
   "source": [
    "# one hot encode outputs\n",
    "y_train = to_categorical(y_train)\n",
    "y_test = to_categorical(y_test)\n",
    "num_classes = y_test.shape[1]"
   ]
  },
  {
   "cell_type": "code",
   "execution_count": 8,
   "id": "52062763",
   "metadata": {},
   "outputs": [],
   "source": [
    "# define baseline model\n",
    "def baseline_model():\n",
    "\t# create model\n",
    "\tmodel = Sequential()\n",
    "\tmodel.add(Dense(num_pixels, input_shape=(num_pixels,), kernel_initializer='normal', activation='relu'))\n",
    "\tmodel.add(Dense(num_classes, kernel_initializer='normal', activation='softmax'))\n",
    "\t# Compile model\n",
    "\tmodel.compile(loss='categorical_crossentropy', optimizer='adam', metrics=['accuracy'])\n",
    "\treturn model"
   ]
  },
  {
   "cell_type": "code",
   "execution_count": 8,
   "id": "a7acacb9",
   "metadata": {},
   "outputs": [
    {
     "name": "stdout",
     "output_type": "stream",
     "text": [
      "Epoch 1/10\n",
      "300/300 - 3s - loss: 0.2801 - accuracy: 0.9199 - val_loss: 0.1405 - val_accuracy: 0.9596 - 3s/epoch - 9ms/step\n",
      "Epoch 2/10\n",
      "300/300 - 2s - loss: 0.1100 - accuracy: 0.9690 - val_loss: 0.0984 - val_accuracy: 0.9709 - 2s/epoch - 7ms/step\n",
      "Epoch 3/10\n",
      "300/300 - 2s - loss: 0.0712 - accuracy: 0.9787 - val_loss: 0.0749 - val_accuracy: 0.9785 - 2s/epoch - 7ms/step\n",
      "Epoch 4/10\n",
      "300/300 - 2s - loss: 0.0498 - accuracy: 0.9857 - val_loss: 0.0697 - val_accuracy: 0.9782 - 2s/epoch - 7ms/step\n",
      "Epoch 5/10\n",
      "300/300 - 2s - loss: 0.0365 - accuracy: 0.9897 - val_loss: 0.0705 - val_accuracy: 0.9772 - 2s/epoch - 7ms/step\n",
      "Epoch 6/10\n",
      "300/300 - 2s - loss: 0.0265 - accuracy: 0.9929 - val_loss: 0.0639 - val_accuracy: 0.9797 - 2s/epoch - 7ms/step\n",
      "Epoch 7/10\n",
      "300/300 - 2s - loss: 0.0197 - accuracy: 0.9950 - val_loss: 0.0675 - val_accuracy: 0.9804 - 2s/epoch - 7ms/step\n",
      "Epoch 8/10\n",
      "300/300 - 2s - loss: 0.0137 - accuracy: 0.9970 - val_loss: 0.0609 - val_accuracy: 0.9818 - 2s/epoch - 7ms/step\n",
      "Epoch 9/10\n",
      "300/300 - 2s - loss: 0.0102 - accuracy: 0.9980 - val_loss: 0.0577 - val_accuracy: 0.9814 - 2s/epoch - 7ms/step\n",
      "Epoch 10/10\n",
      "300/300 - 2s - loss: 0.0076 - accuracy: 0.9989 - val_loss: 0.0587 - val_accuracy: 0.9829 - 2s/epoch - 6ms/step\n",
      "Baseline Error: 1.71%\n"
     ]
    }
   ],
   "source": [
    "# build the model\n",
    "model = baseline_model()\n",
    "# Fit the model\n",
    "model.fit(X_train, y_train, validation_data=(X_test, y_test), epochs=10, batch_size=200, verbose=2)\n",
    "# Final evaluation of the model\n",
    "scores = model.evaluate(X_test, y_test, verbose=0)\n",
    "print(\"Baseline Error: %.2f%%\" % (100-scores[1]*100))"
   ]
  },
  {
   "cell_type": "code",
   "execution_count": 9,
   "id": "1f163c21",
   "metadata": {},
   "outputs": [
    {
     "name": "stdout",
     "output_type": "stream",
     "text": [
      "Epoch 1/10\n",
      "300/300 - 6s - loss: 0.2803 - accuracy: 0.9205 - val_loss: 0.1421 - val_accuracy: 0.9576 - 6s/epoch - 20ms/step\n",
      "Epoch 2/10\n",
      "300/300 - 4s - loss: 0.1128 - accuracy: 0.9667 - val_loss: 0.0948 - val_accuracy: 0.9713 - 4s/epoch - 13ms/step\n",
      "Epoch 3/10\n",
      "300/300 - 4s - loss: 0.0718 - accuracy: 0.9798 - val_loss: 0.0816 - val_accuracy: 0.9745 - 4s/epoch - 13ms/step\n",
      "Epoch 4/10\n",
      "300/300 - 4s - loss: 0.0518 - accuracy: 0.9845 - val_loss: 0.0670 - val_accuracy: 0.9787 - 4s/epoch - 13ms/step\n",
      "Epoch 5/10\n",
      "300/300 - 4s - loss: 0.0370 - accuracy: 0.9893 - val_loss: 0.0597 - val_accuracy: 0.9812 - 4s/epoch - 13ms/step\n",
      "Epoch 6/10\n",
      "300/300 - 4s - loss: 0.0268 - accuracy: 0.9929 - val_loss: 0.0671 - val_accuracy: 0.9794 - 4s/epoch - 13ms/step\n",
      "Epoch 7/10\n",
      "300/300 - 4s - loss: 0.0191 - accuracy: 0.9952 - val_loss: 0.0607 - val_accuracy: 0.9809 - 4s/epoch - 13ms/step\n",
      "Epoch 8/10\n",
      "300/300 - 4s - loss: 0.0142 - accuracy: 0.9967 - val_loss: 0.0589 - val_accuracy: 0.9818 - 4s/epoch - 13ms/step\n",
      "Epoch 9/10\n",
      "300/300 - 4s - loss: 0.0110 - accuracy: 0.9978 - val_loss: 0.0604 - val_accuracy: 0.9829 - 4s/epoch - 13ms/step\n",
      "Epoch 10/10\n",
      "300/300 - 4s - loss: 0.0074 - accuracy: 0.9989 - val_loss: 0.0593 - val_accuracy: 0.9826 - 4s/epoch - 13ms/step\n",
      "Baseline Error: 1.74%\n"
     ]
    }
   ],
   "source": [
    "# Baseline MLP for MNIST dataset\n",
    "from tensorflow.keras.datasets import mnist\n",
    "from tensorflow.keras.models import Sequential\n",
    "from tensorflow.keras.layers import Dense\n",
    "from tensorflow.keras.utils import to_categorical\n",
    "# load data\n",
    "(X_train, y_train), (X_test, y_test) = mnist.load_data()\n",
    "# flatten 28*28 images to a 784 vector for each image\n",
    "num_pixels = X_train.shape[1] * X_train.shape[2]\n",
    "X_train = X_train.reshape((X_train.shape[0], num_pixels)).astype('float32')\n",
    "X_test = X_test.reshape((X_test.shape[0], num_pixels)).astype('float32')\n",
    "# normalize inputs from 0-255 to 0-1\n",
    "X_train = X_train / 255\n",
    "X_test = X_test / 255\n",
    "# one hot encode outputs\n",
    "y_train = to_categorical(y_train)\n",
    "y_test = to_categorical(y_test)\n",
    "num_classes = y_test.shape[1]\n",
    "# define baseline model\n",
    "def baseline_model():\n",
    "\t# create model\n",
    "\tmodel = Sequential()\n",
    "\tmodel.add(Dense(num_pixels, input_shape=(num_pixels,), kernel_initializer='normal', activation='relu'))\n",
    "\tmodel.add(Dense(num_classes, kernel_initializer='normal', activation='softmax'))\n",
    "\t# Compile model\n",
    "\tmodel.compile(loss='categorical_crossentropy', optimizer='adam', metrics=['accuracy'])\n",
    "\treturn model\n",
    "# build the model\n",
    "model = baseline_model()\n",
    "# Fit the model\n",
    "model.fit(X_train, y_train, validation_data=(X_test, y_test), epochs=10, batch_size=200, verbose=2)\n",
    "# Final evaluation of the model\n",
    "scores = model.evaluate(X_test, y_test, verbose=0)\n",
    "print(\"Baseline Error: %.2f%%\" % (100-scores[1]*100))"
   ]
  },
  {
   "cell_type": "markdown",
   "id": "4e07a87f",
   "metadata": {},
   "source": [
    "# Simple Convolitional Neural Network for MNIST"
   ]
  },
  {
   "cell_type": "code",
   "execution_count": 10,
   "id": "f1bff191",
   "metadata": {},
   "outputs": [],
   "source": [
    "from tensorflow.keras.datasets import mnist\n",
    "from tensorflow.keras.models import Sequential\n",
    "from tensorflow.keras.layers import Dense\n",
    "from tensorflow.keras.layers import Dropout\n",
    "from tensorflow.keras.layers import Flatten\n",
    "from tensorflow.keras.layers import Conv2D\n",
    "from tensorflow.keras.layers import MaxPooling2D\n",
    "from tensorflow.keras.utils import to_categorical"
   ]
  },
  {
   "cell_type": "code",
   "execution_count": 11,
   "id": "27fb3aae",
   "metadata": {},
   "outputs": [],
   "source": [
    "# load data\n",
    "(X_train, y_train), (X_test, y_test) = mnist.load_data()\n",
    "# reshape to be [samples][width][height][channels]\n",
    "X_train = X_train.reshape(X_train.shape[0], 28, 28, 1).astype('float32')\n",
    "X_test = X_test.reshape(X_test.shape[0], 28, 28, 1).astype('float32')"
   ]
  },
  {
   "cell_type": "code",
   "execution_count": 12,
   "id": "e85f404d",
   "metadata": {},
   "outputs": [],
   "source": [
    "# normalize inputs from 0-255 to 0-1\n",
    "X_train = X_train / 255\n",
    "X_test = X_test / 255\n",
    "# one hot encode outputs\n",
    "y_train = to_categorical(y_train)\n",
    "y_test = to_categorical(y_test)\n",
    "num_classes = y_test.shape[1]"
   ]
  },
  {
   "cell_type": "code",
   "execution_count": 13,
   "id": "1bb44d26",
   "metadata": {},
   "outputs": [],
   "source": [
    "def baseline_model():\n",
    "    # create model\n",
    "    model = Sequential()\n",
    "    model.add(Conv2D(32, (5, 5), input_shape=(28, 28, 1), activation='relu'))\n",
    "    model.add(MaxPooling2D(pool_size=(2, 2)))\n",
    "    model.add(Dropout(0.2))\n",
    "    model.add(Flatten())\n",
    "    model.add(Dense(128, activation='relu'))\n",
    "    model.add(Dense(num_classes, activation='softmax'))\n",
    "    # Compile model\n",
    "    model.compile(loss='categorical_crossentropy', optimizer='adam', metrics=['accuracy'])\n",
    "    return model"
   ]
  },
  {
   "cell_type": "code",
   "execution_count": 14,
   "id": "4ff3d19c",
   "metadata": {},
   "outputs": [
    {
     "name": "stdout",
     "output_type": "stream",
     "text": [
      "Epoch 1/10\n",
      "300/300 - 28s - loss: 0.2362 - accuracy: 0.9317 - val_loss: 0.0787 - val_accuracy: 0.9752 - 28s/epoch - 95ms/step\n",
      "Epoch 2/10\n",
      "300/300 - 26s - loss: 0.0741 - accuracy: 0.9781 - val_loss: 0.0551 - val_accuracy: 0.9829 - 26s/epoch - 87ms/step\n",
      "Epoch 3/10\n",
      "300/300 - 26s - loss: 0.0521 - accuracy: 0.9840 - val_loss: 0.0438 - val_accuracy: 0.9858 - 26s/epoch - 87ms/step\n",
      "Epoch 4/10\n",
      "300/300 - 27s - loss: 0.0403 - accuracy: 0.9879 - val_loss: 0.0369 - val_accuracy: 0.9887 - 27s/epoch - 89ms/step\n",
      "Epoch 5/10\n",
      "300/300 - 27s - loss: 0.0316 - accuracy: 0.9905 - val_loss: 0.0401 - val_accuracy: 0.9856 - 27s/epoch - 89ms/step\n",
      "Epoch 6/10\n",
      "300/300 - 26s - loss: 0.0274 - accuracy: 0.9912 - val_loss: 0.0331 - val_accuracy: 0.9885 - 26s/epoch - 87ms/step\n",
      "Epoch 7/10\n",
      "300/300 - 27s - loss: 0.0218 - accuracy: 0.9930 - val_loss: 0.0335 - val_accuracy: 0.9901 - 27s/epoch - 89ms/step\n",
      "Epoch 8/10\n",
      "300/300 - 26s - loss: 0.0197 - accuracy: 0.9935 - val_loss: 0.0351 - val_accuracy: 0.9877 - 26s/epoch - 86ms/step\n",
      "Epoch 9/10\n",
      "300/300 - 26s - loss: 0.0156 - accuracy: 0.9948 - val_loss: 0.0328 - val_accuracy: 0.9884 - 26s/epoch - 86ms/step\n",
      "Epoch 10/10\n",
      "300/300 - 26s - loss: 0.0136 - accuracy: 0.9960 - val_loss: 0.0328 - val_accuracy: 0.9892 - 26s/epoch - 86ms/step\n",
      "CNN Error: 1.08%\n"
     ]
    }
   ],
   "source": [
    "# build the model\n",
    "model = baseline_model()\n",
    "# Fit the model\n",
    "model.fit(X_train, y_train, validation_data=(X_test, y_test), epochs=10, batch_size=200, verbose=2)\n",
    "# Final evaluation of the model\n",
    "scores = model.evaluate(X_test, y_test, verbose=0)\n",
    "print(\"CNN Error: %.2f%%\" % (100-scores[1]*100))"
   ]
  },
  {
   "cell_type": "markdown",
   "id": "e1d79fb8",
   "metadata": {},
   "source": [
    "# Large Convolutional Neural Network for MNIST"
   ]
  },
  {
   "cell_type": "code",
   "execution_count": 15,
   "id": "dfafd6af",
   "metadata": {},
   "outputs": [],
   "source": [
    "# Larger CNN for the MNIST Dataset\n",
    "from tensorflow.keras.datasets import mnist\n",
    "from tensorflow.keras.models import Sequential\n",
    "from tensorflow.keras.layers import Dense\n",
    "from tensorflow.keras.layers import Dropout\n",
    "from tensorflow.keras.layers import Flatten\n",
    "from tensorflow.keras.layers import Conv2D\n",
    "from tensorflow.keras.layers import MaxPooling2D\n",
    "from tensorflow.keras.utils import to_categorical\n",
    "# load data\n",
    "(X_train, y_train), (X_test, y_test) = mnist.load_data()\n",
    "# reshape to be [samples][width][height][channels]\n",
    "X_train = X_train.reshape((X_train.shape[0], 28, 28, 1)).astype('float32')\n",
    "X_test = X_test.reshape((X_test.shape[0], 28, 28, 1)).astype('float32')\n",
    "# normalize inputs from 0-255 to 0-1\n",
    "X_train = X_train / 255\n",
    "X_test = X_test / 255\n",
    "# one hot encode outputs\n",
    "y_train = to_categorical(y_train)\n",
    "y_test = to_categorical(y_test)\n",
    "num_classes = y_test.shape[1]"
   ]
  },
  {
   "cell_type": "code",
   "execution_count": 16,
   "id": "4504edf7",
   "metadata": {},
   "outputs": [],
   "source": [
    "# define the larger model\n",
    "def larger_model():\n",
    "\t# create model\n",
    "\tmodel = Sequential()\n",
    "\tmodel.add(Conv2D(30, (5, 5), input_shape=(28, 28, 1), activation='relu'))\n",
    "\tmodel.add(MaxPooling2D(pool_size=(2, 2)))\n",
    "\tmodel.add(Conv2D(15, (3, 3), activation='relu'))\n",
    "\tmodel.add(MaxPooling2D(pool_size=(2, 2)))\n",
    "\tmodel.add(Dropout(0.2))\n",
    "\tmodel.add(Flatten())\n",
    "\tmodel.add(Dense(128, activation='relu'))\n",
    "\tmodel.add(Dense(50, activation='relu'))\n",
    "\tmodel.add(Dense(num_classes, activation='softmax'))\n",
    "\t# Compile model\n",
    "\tmodel.compile(loss='categorical_crossentropy', optimizer='adam', metrics=['accuracy'])\n",
    "\treturn model"
   ]
  },
  {
   "cell_type": "code",
   "execution_count": 17,
   "id": "1b37a807",
   "metadata": {},
   "outputs": [
    {
     "name": "stdout",
     "output_type": "stream",
     "text": [
      "Epoch 1/10\n",
      "300/300 [==============================] - 31s 97ms/step - loss: 0.3883 - accuracy: 0.8784 - val_loss: 0.1060 - val_accuracy: 0.9683\n",
      "Epoch 2/10\n",
      "300/300 [==============================] - 29s 96ms/step - loss: 0.1084 - accuracy: 0.9660 - val_loss: 0.0679 - val_accuracy: 0.9781\n",
      "Epoch 3/10\n",
      "300/300 [==============================] - 29s 95ms/step - loss: 0.0749 - accuracy: 0.9767 - val_loss: 0.0466 - val_accuracy: 0.9848\n",
      "Epoch 4/10\n",
      "300/300 [==============================] - 30s 101ms/step - loss: 0.0590 - accuracy: 0.9819 - val_loss: 0.0365 - val_accuracy: 0.9884\n",
      "Epoch 5/10\n",
      "300/300 [==============================] - 29s 97ms/step - loss: 0.0516 - accuracy: 0.9838 - val_loss: 0.0399 - val_accuracy: 0.9875\n",
      "Epoch 6/10\n",
      "300/300 [==============================] - 28s 95ms/step - loss: 0.0455 - accuracy: 0.9859 - val_loss: 0.0317 - val_accuracy: 0.9903\n",
      "Epoch 7/10\n",
      "300/300 [==============================] - 29s 95ms/step - loss: 0.0411 - accuracy: 0.9870 - val_loss: 0.0282 - val_accuracy: 0.9900\n",
      "Epoch 8/10\n",
      "300/300 [==============================] - 29s 95ms/step - loss: 0.0367 - accuracy: 0.9878 - val_loss: 0.0271 - val_accuracy: 0.9913\n",
      "Epoch 9/10\n",
      "300/300 [==============================] - 29s 96ms/step - loss: 0.0335 - accuracy: 0.9894 - val_loss: 0.0293 - val_accuracy: 0.9909\n",
      "Epoch 10/10\n",
      "300/300 [==============================] - 29s 95ms/step - loss: 0.0316 - accuracy: 0.9899 - val_loss: 0.0250 - val_accuracy: 0.9914\n",
      "Large CNN Error: 0.86%\n"
     ]
    }
   ],
   "source": [
    "# build the model\n",
    "model = larger_model()\n",
    "# Fit the model\n",
    "model.fit(X_train, y_train, validation_data=(X_test, y_test), epochs=10, batch_size=200)\n",
    "# Final evaluation of the model\n",
    "scores = model.evaluate(X_test, y_test, verbose=0)\n",
    "print(\"Large CNN Error: %.2f%%\" % (100-scores[1]*100))"
   ]
  },
  {
   "cell_type": "code",
   "execution_count": null,
   "id": "e13ab34d",
   "metadata": {},
   "outputs": [],
   "source": []
  }
 ],
 "metadata": {
  "kernelspec": {
   "display_name": "Python 3 (ipykernel)",
   "language": "python",
   "name": "python3"
  },
  "language_info": {
   "codemirror_mode": {
    "name": "ipython",
    "version": 3
   },
   "file_extension": ".py",
   "mimetype": "text/x-python",
   "name": "python",
   "nbconvert_exporter": "python",
   "pygments_lexer": "ipython3",
   "version": "3.9.12"
  }
 },
 "nbformat": 4,
 "nbformat_minor": 5
}
